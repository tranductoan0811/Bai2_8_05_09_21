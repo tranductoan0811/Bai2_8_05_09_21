{
 "cells": [
  {
   "cell_type": "code",
   "execution_count": 3,
   "id": "2d6b0be2",
   "metadata": {},
   "outputs": [
    {
     "data": {
      "text/plain": [
       "<function turtle.mainloop()>"
      ]
     },
     "execution_count": 3,
     "metadata": {},
     "output_type": "execute_result"
    }
   ],
   "source": [
    "import turtle\n",
    "turtle.bgcolor(\"#C2D4E6\")\n",
    "#Đặt biến pen\n",
    "pen = turtle.Turtle()\n",
    "#đặt chiều dày nét vẽ\n",
    "pen.pensize(6)\n",
    "#Đặt màu cho nét vẽ\n",
    "pen.pencolor(\"blue\")\n",
    "#Tô màu nền của hình vẽ\n",
    "pen.fillcolor(\"#8BBAE8\")\n",
    "pen.begin_fill()\n",
    "pen.fd(300)\n",
    "pen.lt(120)\n",
    "pen.fd(300)\n",
    "pen.lt(120)\n",
    "pen.fd(300)\n",
    "pen.end_fill()\n",
    "#vẽ hình tròn\n",
    "pen.pensize(6)\n",
    "#Đặt màu cho nét vẽ\n",
    "pen.pencolor(\"#5D7790\")\n",
    "pen.penup()\n",
    "pen.home()\n",
    "pen.goto(0,-300)\n",
    "pen.pendown()\n",
    "#Vẽ đường tròn\n",
    "pen.fillcolor(\"#8BBAE8\")\n",
    "pen.begin_fill()\n",
    "pen.circle(200)\n",
    "pen.end_fill()\n",
    "turtle.done"
   ]
  },
  {
   "cell_type": "code",
   "execution_count": 17,
   "id": "6a41b1db",
   "metadata": {},
   "outputs": [],
   "source": [
    "import turtle\n",
    "turtle.bgcolor(\"#C2D4E6\")\n",
    "#Đặt biến pen\n",
    "pen = turtle.Turtle()\n",
    "#đặt chiều dày nét vẽ\n",
    "pen.pensize(6)\n",
    "#Đặt màu cho nét vẽ\n",
    "pen.pencolor(\"#5D7790\")\n",
    "pen.penup()\n",
    "pen.goto(0,-300)\n",
    "pen.pendown()\n",
    "#Vẽ đường tròn\n",
    "pen.fillcolor(\"#8BBAE8\")\n",
    "pen.begin_fill()\n",
    "pen.circle(200)\n",
    "pen.end_fill()"
   ]
  }
 ],
 "metadata": {
  "kernelspec": {
   "display_name": "Python 3 (ipykernel)",
   "language": "python",
   "name": "python3"
  },
  "language_info": {
   "codemirror_mode": {
    "name": "ipython",
    "version": 3
   },
   "file_extension": ".py",
   "mimetype": "text/x-python",
   "name": "python",
   "nbconvert_exporter": "python",
   "pygments_lexer": "ipython3",
   "version": "3.9.6"
  }
 },
 "nbformat": 4,
 "nbformat_minor": 5
}
