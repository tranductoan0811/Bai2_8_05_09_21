{
 "cells": [
  {
   "cell_type": "code",
   "execution_count": 1,
   "id": "9c03b0c4",
   "metadata": {},
   "outputs": [
    {
     "name": "stdout",
     "output_type": "stream",
     "text": [
      "hello my teacher\n"
     ]
    }
   ],
   "source": [
    "print(\"hello my teacher\")"
   ]
  },
  {
   "cell_type": "code",
   "execution_count": 2,
   "id": "8fd4261f",
   "metadata": {},
   "outputs": [
    {
     "name": "stdout",
     "output_type": "stream",
     "text": [
      "i am your student. I am so glad to learn your coaching\n"
     ]
    }
   ],
   "source": [
    "print(\"i am your student. I am so glad to learn your coaching\")"
   ]
  }
 ],
 "metadata": {
  "kernelspec": {
   "display_name": "Python 3 (ipykernel)",
   "language": "python",
   "name": "python3"
  },
  "language_info": {
   "codemirror_mode": {
    "name": "ipython",
    "version": 3
   },
   "file_extension": ".py",
   "mimetype": "text/x-python",
   "name": "python",
   "nbconvert_exporter": "python",
   "pygments_lexer": "ipython3",
   "version": "3.9.6"
  }
 },
 "nbformat": 4,
 "nbformat_minor": 5
}
