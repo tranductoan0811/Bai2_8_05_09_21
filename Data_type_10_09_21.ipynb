{
 "cells": [
  {
   "cell_type": "code",
   "execution_count": 33,
   "id": "0cf9627b",
   "metadata": {},
   "outputs": [],
   "source": [
    "# Để khai báo biến, chúng ta sử dụng cú pháp: ten_bien = gia_tri_cua_bien\n",
    "#sau khi thêm biến, phải Ctrl+enter\n",
    "full_name = \"Trần Đức Toàn\"\n",
    "day = 6\n",
    "class_name = \"Python Fundermental\"\n",
    "course = \"Python\"\n",
    "teacher = \"Long, Lam Duc\""
   ]
  },
  {
   "cell_type": "code",
   "execution_count": 34,
   "id": "ff0cfa45",
   "metadata": {
    "scrolled": true
   },
   "outputs": [
    {
     "name": "stdout",
     "output_type": "stream",
     "text": [
      "Trần Đức Toàn\n"
     ]
    }
   ],
   "source": [
    "print(full_name)"
   ]
  },
  {
   "cell_type": "code",
   "execution_count": 24,
   "id": "828395f8",
   "metadata": {},
   "outputs": [
    {
     "name": "stdout",
     "output_type": "stream",
     "text": [
      "9\n",
      "<class 'int'>\n",
      "26.4\n",
      "<class 'float'>\n",
      "<class 'bool'>\n"
     ]
    }
   ],
   "source": [
    "#Biến kiểu số nguyên\n",
    "month = 9\n",
    "print(month)\n",
    "print(type(month))\n",
    "\n",
    "#Biến kiểu số thập phân\n",
    "degree = 26.4\n",
    "print(degree)\n",
    "print(type(degree))\n",
    "\n",
    "#Biến kiểu Logic Boolean, có hai giá trị True / False\n",
    "is_teacher = True\n",
    "print(type(is_teacher))"
   ]
  },
  {
   "cell_type": "code",
   "execution_count": 25,
   "id": "950fcb70",
   "metadata": {},
   "outputs": [
    {
     "name": "stdout",
     "output_type": "stream",
     "text": [
      "False\n"
     ]
    }
   ],
   "source": [
    "#Kiểu dữ liệu Boolean\n",
    "mybool = (5<2)\n",
    "print(mybool)"
   ]
  },
  {
   "cell_type": "code",
   "execution_count": 29,
   "id": "b02a91bf",
   "metadata": {},
   "outputs": [
    {
     "name": "stdout",
     "output_type": "stream",
     "text": [
      "2021\n",
      "<class 'int'>\n",
      "Năm nay là 2021\n"
     ]
    }
   ],
   "source": [
    "year = 2021\n",
    "print(year)\n",
    "print(type(year))\n",
    "print(\"Năm nay là \"+str(year))"
   ]
  },
  {
   "cell_type": "code",
   "execution_count": 42,
   "id": "5f03dd5d",
   "metadata": {},
   "outputs": [
    {
     "name": "stdout",
     "output_type": "stream",
     "text": [
      "True\n",
      "11.0\n"
     ]
    }
   ],
   "source": [
    "#biến bool khi tham gia tính toán, True = 1, False = 0\n",
    "is_teaching = True\n",
    "print(is_teaching)\n",
    "print(is_teaching+10.0)"
   ]
  },
  {
   "cell_type": "code",
   "execution_count": 45,
   "id": "5a4bf087",
   "metadata": {},
   "outputs": [
    {
     "data": {
      "text/plain": [
       "1"
      ]
     },
     "execution_count": 45,
     "metadata": {},
     "output_type": "execute_result"
    }
   ],
   "source": [
    "#phép chia\n",
    "10/5"
   ]
  },
  {
   "cell_type": "code",
   "execution_count": 46,
   "id": "8d1c7888",
   "metadata": {},
   "outputs": [
    {
     "data": {
      "text/plain": [
       "1"
      ]
     },
     "execution_count": 46,
     "metadata": {},
     "output_type": "execute_result"
    }
   ],
   "source": [
    "#chia lấy phần dư\n",
    "7%3"
   ]
  },
  {
   "cell_type": "code",
   "execution_count": 48,
   "id": "745b6276",
   "metadata": {},
   "outputs": [
    {
     "data": {
      "text/plain": [
       "2"
      ]
     },
     "execution_count": 48,
     "metadata": {},
     "output_type": "execute_result"
    }
   ],
   "source": [
    "#chia lấy phần nguyên\n",
    "7//3"
   ]
  },
  {
   "cell_type": "code",
   "execution_count": 51,
   "id": "79622080",
   "metadata": {},
   "outputs": [
    {
     "name": "stdout",
     "output_type": "stream",
     "text": [
      "38\n"
     ]
    }
   ],
   "source": [
    "#tính toán bên phải, trả về giá trị của biến bên trái\n",
    "x = (10+9)*2\n",
    "print(x)"
   ]
  },
  {
   "cell_type": "code",
   "execution_count": 52,
   "id": "95c2e7de",
   "metadata": {},
   "outputs": [
    {
     "name": "stdout",
     "output_type": "stream",
     "text": [
      "43\n"
     ]
    }
   ],
   "source": [
    "# vì KQ bân phải gán qua bên trái\n",
    "# lấy giá trị cũ, tính với 5 ra kq cuối cùng\n",
    "x = x+5\n",
    "print(x)"
   ]
  },
  {
   "cell_type": "code",
   "execution_count": 58,
   "id": "6464ec76",
   "metadata": {
    "scrolled": false
   },
   "outputs": [
    {
     "name": "stdout",
     "output_type": "stream",
     "text": [
      "68\n"
     ]
    }
   ],
   "source": [
    "x+=5\n",
    "print(x)"
   ]
  },
  {
   "cell_type": "code",
   "execution_count": 62,
   "id": "9d847c34",
   "metadata": {},
   "outputs": [
    {
     "data": {
      "text/plain": [
       "True"
      ]
     },
     "execution_count": 62,
     "metadata": {},
     "output_type": "execute_result"
    }
   ],
   "source": [
    "#hai dấu bằng để so sánh bằng\n",
    "2+1==3"
   ]
  },
  {
   "cell_type": "code",
   "execution_count": 63,
   "id": "00307e31",
   "metadata": {},
   "outputs": [
    {
     "data": {
      "text/plain": [
       "False"
      ]
     },
     "execution_count": 63,
     "metadata": {},
     "output_type": "execute_result"
    }
   ],
   "source": [
    "# dấu chấm than (!) và một dấu bằng để so sánh khác (<>)\n",
    "2+1!=3"
   ]
  },
  {
   "cell_type": "code",
   "execution_count": 65,
   "id": "f3110e16",
   "metadata": {},
   "outputs": [
    {
     "data": {
      "text/plain": [
       "True"
      ]
     },
     "execution_count": 65,
     "metadata": {},
     "output_type": "execute_result"
    }
   ],
   "source": [
    "# toán tử and ( cả hai điều kiện phải thỏa mãn ), or ( một trong 2 điều kiện thỏa mãn  )\n",
    "a=1\n",
    "b=2\n",
    "a>0 and b>0"
   ]
  },
  {
   "cell_type": "code",
   "execution_count": 66,
   "id": "5ae45990",
   "metadata": {},
   "outputs": [
    {
     "data": {
      "text/plain": [
       "False"
      ]
     },
     "execution_count": 66,
     "metadata": {},
     "output_type": "execute_result"
    }
   ],
   "source": [
    "#Toán tứ not: phủ định\n",
    "a=1\n",
    "not(a>0)"
   ]
  }
 ],
 "metadata": {
  "kernelspec": {
   "display_name": "Python 3 (ipykernel)",
   "language": "python",
   "name": "python3"
  },
  "language_info": {
   "codemirror_mode": {
    "name": "ipython",
    "version": 3
   },
   "file_extension": ".py",
   "mimetype": "text/x-python",
   "name": "python",
   "nbconvert_exporter": "python",
   "pygments_lexer": "ipython3",
   "version": "3.9.6"
  }
 },
 "nbformat": 4,
 "nbformat_minor": 5
}
