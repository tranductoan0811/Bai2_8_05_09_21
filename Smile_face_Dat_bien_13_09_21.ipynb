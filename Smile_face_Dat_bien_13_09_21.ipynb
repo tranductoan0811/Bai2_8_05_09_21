{
 "cells": [
  {
   "cell_type": "code",
   "execution_count": 22,
   "id": "b5fdad41",
   "metadata": {},
   "outputs": [],
   "source": [
    "import turtle"
   ]
  },
  {
   "cell_type": "code",
   "execution_count": 28,
   "id": "e8521589",
   "metadata": {},
   "outputs": [],
   "source": [
    "#đặt biến\n",
    "turtle.bgcolor(\"#C2D4E6\")\n",
    "pen=turtle.Turtle()\n",
    "face_color='#5D7790'\n",
    "facesize=200"
   ]
  },
  {
   "cell_type": "code",
   "execution_count": 29,
   "id": "86d2df72",
   "metadata": {
    "scrolled": true
   },
   "outputs": [],
   "source": [
    "pen.pensize(6)\n",
    "# vẽ mặt cười\n",
    "pen.penup()\n",
    "pen.goto(0,-200)\n",
    "pen.pendown()\n",
    "pen.pencolor(face_color)\n",
    "pen.circle(facesize)"
   ]
  },
  {
   "cell_type": "code",
   "execution_count": 32,
   "id": "06621b68",
   "metadata": {},
   "outputs": [
    {
     "data": {
      "text/plain": [
       "<function turtle.mainloop()>"
      ]
     },
     "execution_count": 32,
     "metadata": {},
     "output_type": "execute_result"
    }
   ],
   "source": [
    "turtle.done"
   ]
  }
 ],
 "metadata": {
  "kernelspec": {
   "display_name": "Python 3 (ipykernel)",
   "language": "python",
   "name": "python3"
  },
  "language_info": {
   "codemirror_mode": {
    "name": "ipython",
    "version": 3
   },
   "file_extension": ".py",
   "mimetype": "text/x-python",
   "name": "python",
   "nbconvert_exporter": "python",
   "pygments_lexer": "ipython3",
   "version": "3.9.6"
  }
 },
 "nbformat": 4,
 "nbformat_minor": 5
}
